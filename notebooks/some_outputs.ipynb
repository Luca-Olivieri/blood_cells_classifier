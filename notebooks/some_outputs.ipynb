{
 "cells": [
  {
   "cell_type": "markdown",
   "metadata": {
    "id": "7bDfsioJCHpC"
   },
   "source": [
    "# Setup"
   ]
  },
  {
   "cell_type": "code",
   "execution_count": 1,
   "metadata": {
    "id": "RtFFUAtDBq26"
   },
   "outputs": [],
   "source": [
    "import numpy as np\n",
    "import seaborn as sns\n",
    "import matplotlib.pyplot as plt\n",
    "from matplotlib.patches import Patch\n",
    "from matplotlib.offsetbox import OffsetImage, AnnotationBbox\n",
    "from scipy.spatial import cKDTree\n",
    "import seaborn as sns\n",
    "import pandas as pd\n",
    "import os\n",
    "import random\n",
    "import re\n",
    "import cv2\n",
    "import gc\n",
    "import logging"
   ]
  },
  {
   "cell_type": "markdown",
   "metadata": {
    "id": "HDQT64enCJWI"
   },
   "source": [
    "SkLearn libraries:"
   ]
  },
  {
   "cell_type": "code",
   "execution_count": 2,
   "metadata": {
    "id": "TCdmg2HPCKlG"
   },
   "outputs": [],
   "source": [
    "from sklearn.metrics import accuracy_score, precision_score, recall_score, f1_score, confusion_matrix, classification_report\n",
    "from sklearn.model_selection import train_test_split\n",
    "from sklearn.utils import class_weight\n",
    "from sklearn.preprocessing import StandardScaler, MinMaxScaler\n",
    "from sklearn.manifold import TSNE"
   ]
  },
  {
   "cell_type": "markdown",
   "metadata": {
    "id": "fv64SQw_BqZy"
   },
   "source": [
    "TensorFlow libraries:"
   ]
  },
  {
   "cell_type": "code",
   "execution_count": 3,
   "metadata": {
    "colab": {
     "base_uri": "https://localhost:8080/"
    },
    "id": "-Mh1hvYrBXNl",
    "outputId": "d42593f5-16b9-4ca6-e1e9-30f006cc91b3"
   },
   "outputs": [
    {
     "name": "stdout",
     "output_type": "stream",
     "text": [
      "\u001b[?25l   \u001b[90m━━━━━━━━━━━━━━━━━━━━━━━━━━━━━━━━━━━━━━━━\u001b[0m \u001b[32m0.0/650.7 kB\u001b[0m \u001b[31m?\u001b[0m eta \u001b[36m-:--:--\u001b[0m\r\u001b[2K   \u001b[91m━━━━━━━━━━━━━━━━━━━━━━━━━━━━━━━━━\u001b[0m\u001b[90m╺\u001b[0m\u001b[90m━━━━━━\u001b[0m \u001b[32m542.7/650.7 kB\u001b[0m \u001b[31m15.9 MB/s\u001b[0m eta \u001b[36m0:00:01\u001b[0m\r\u001b[2K   \u001b[90m━━━━━━━━━━━━━━━━━━━━━━━━━━━━━━━━━━━━━━━━\u001b[0m \u001b[32m650.7/650.7 kB\u001b[0m \u001b[31m11.3 MB/s\u001b[0m eta \u001b[36m0:00:00\u001b[0m\n",
      "\u001b[?25h\u001b[?25l   \u001b[90m━━━━━━━━━━━━━━━━━━━━━━━━━━━━━━━━━━━━━━━━\u001b[0m \u001b[32m0.0/950.8 kB\u001b[0m \u001b[31m?\u001b[0m eta \u001b[36m-:--:--\u001b[0m\r\u001b[2K   \u001b[90m━━━━━━━━━━━━━━━━━━━━━━━━━━━━━━━━━━━━━━━━\u001b[0m \u001b[32m950.8/950.8 kB\u001b[0m \u001b[31m23.3 MB/s\u001b[0m eta \u001b[36m0:00:00\u001b[0m\n",
      "\u001b[?25hTensorFlow version 2.17.1\n"
     ]
    }
   ],
   "source": [
    "import tensorflow as tf\n",
    "from tensorflow import keras as tfk\n",
    "import keras\n",
    "!pip install -q keras_cv\n",
    "import keras_cv as kcv\n",
    "from keras_cv.layers import RandomApply\n",
    "print(f\"TensorFlow version {tf.__version__}\")"
   ]
  },
  {
   "cell_type": "markdown",
   "metadata": {
    "id": "tzJxydkECQ8j"
   },
   "source": [
    "Some settings:"
   ]
  },
  {
   "cell_type": "code",
   "execution_count": 4,
   "metadata": {
    "id": "MQ_4-Dq3CSCG"
   },
   "outputs": [],
   "source": [
    "SEED = 42\n",
    "\n",
    "# Set seed for random\n",
    "random.seed(SEED)\n",
    "\n",
    "# Set seed for numpy\n",
    "np.random.seed(SEED) # NumPy\n",
    "\n",
    "# Set seed for TensorFlow\n",
    "tf.random.set_seed(SEED)\n",
    "# TensorFlow automatically handles GPU seed as well, no need for manual seed setting\n",
    "\n",
    "os.environ['TF_CPP_MIN_LOG_LEVEL'] = '0'\n",
    "os.environ['PYTHONHASHSEED'] = str(SEED)\n",
    "os.environ['MPLCONFIGDIR'] = os.getcwd()+'/configs/'\n",
    "\n",
    "tf.autograph.set_verbosity(0)\n",
    "tf.compat.v1.set_random_seed(SEED)"
   ]
  },
  {
   "cell_type": "markdown",
   "metadata": {
    "id": "nlJ2wF-SCT7N"
   },
   "source": [
    "Some viz settings:"
   ]
  },
  {
   "cell_type": "code",
   "execution_count": 5,
   "metadata": {
    "colab": {
     "base_uri": "https://localhost:8080/",
     "height": 34
    },
    "id": "j-bXw-xbCVEr",
    "outputId": "b5da172a-c491-43ac-b17a-1403e6a8988c"
   },
   "outputs": [
    {
     "data": {
      "text/plain": [
       "<Figure size 640x480 with 0 Axes>"
      ]
     },
     "metadata": {},
     "output_type": "display_data"
    }
   ],
   "source": [
    "plt.tight_layout();\n",
    "pd.set_option('display.max_rows', None);\n",
    "# pd.reset_option('display.max_rows')"
   ]
  },
  {
   "cell_type": "markdown",
   "metadata": {
    "id": "89FvtfB7CWJZ"
   },
   "source": [
    "# Data Handling"
   ]
  },
  {
   "cell_type": "markdown",
   "metadata": {
    "id": "zs2VBP8REMi2"
   },
   "source": [
    "## Resource Downloads"
   ]
  },
  {
   "cell_type": "code",
   "execution_count": 6,
   "metadata": {
    "colab": {
     "base_uri": "https://localhost:8080/"
    },
    "id": "b_GAWuewENk-",
    "outputId": "f3b7524c-7cbf-4280-e06a-3c75c1303d0a"
   },
   "outputs": [
    {
     "name": "stdout",
     "output_type": "stream",
     "text": [
      "Mounted at /content/gdrive\n"
     ]
    }
   ],
   "source": [
    "from google.colab import drive\n",
    "drive.mount('/content/gdrive')"
   ]
  },
  {
   "cell_type": "markdown",
   "metadata": {
    "id": "X6Rg6luGCZF-"
   },
   "source": [
    "## Data Import"
   ]
  },
  {
   "cell_type": "code",
   "execution_count": 7,
   "metadata": {
    "id": "Og8txIP_Ee74"
   },
   "outputs": [],
   "source": [
    "SHARED_DIR = \"/content/gdrive/MyDrive/AN2DL_hw_1\"\n",
    "MY_DIR = \"/content/gdrive/MyDrive/blood_dir\""
   ]
  },
  {
   "cell_type": "markdown",
   "metadata": {
    "id": "5gMHTR_9qgOe"
   },
   "source": [
    "Import the public set:"
   ]
  },
  {
   "cell_type": "code",
   "execution_count": 8,
   "metadata": {
    "colab": {
     "base_uri": "https://localhost:8080/"
    },
    "id": "-vjM4C1JEFaW",
    "outputId": "b505f35e-591e-4b5d-b57d-14ceb46649c0"
   },
   "outputs": [
    {
     "data": {
      "text/plain": [
       "((13759, 96, 96, 3), (13759,), 8)"
      ]
     },
     "execution_count": 8,
     "metadata": {},
     "output_type": "execute_result"
    }
   ],
   "source": [
    "with np.load(SHARED_DIR+\"/training_set.npz\", allow_pickle=True) as data:\n",
    "    images = data['images']\n",
    "    labels = data['labels'].reshape(-1)\n",
    "num_classes = len(np.unique(labels))\n",
    "images.shape, labels.shape, num_classes"
   ]
  },
  {
   "cell_type": "markdown",
   "metadata": {
    "id": "ZwqosdJKGBTk"
   },
   "source": [
    "## Data Exploration"
   ]
  },
  {
   "cell_type": "code",
   "execution_count": 9,
   "metadata": {
    "id": "bV9OwzU8F--m"
   },
   "outputs": [],
   "source": [
    "def show_images(images, labels, n_images=5, n_cols=5, predict=False):\n",
    "  sns.set_style(\"whitegrid\")  # Set Seaborn style\n",
    "\n",
    "  n_rows = int(np.ceil(n_images / n_cols))\n",
    "\n",
    "  # Define a base size for each subplot\n",
    "  base_size = 5\n",
    "  fig_size = (n_cols * base_size, n_rows * base_size)\n",
    "\n",
    "  fig, axs = plt.subplots(nrows=n_rows, ncols=n_cols, figsize=fig_size)\n",
    "  axs = axs.flatten()\n",
    "\n",
    "  random_idxs = np.random.choice(len(images), n_images, replace=False) # for random images\n",
    "  # random_idxs = range(len(images)) # for ordered images\n",
    "\n",
    "  images_to_show = images[random_idxs]\n",
    "  labels_to_show = labels[random_idxs]\n",
    "\n",
    "  if predict == True:\n",
    "    preds_to_show = MODEL.predict(images_to_show)\n",
    "\n",
    "  for i, ax in enumerate(axs[:n_images]):\n",
    "    idx = range(len(labels))[random_idxs[i]]\n",
    "\n",
    "    img_to_show = images_to_show[i]\n",
    "    label = labels_to_show[i]\n",
    "\n",
    "    img_title = f\"Image {idx + 1} - Class {label}\"\n",
    "\n",
    "    if predict == True:\n",
    "      pred = preds_to_show[i]\n",
    "      suff = f\" - Pred {pred}\"\n",
    "      img_title += suff\n",
    "\n",
    "    ax.set_title(img_title, fontsize=21)\n",
    "    ax.imshow(img_to_show)\n",
    "    ax.axis('off')  # Hide axes ticks\n",
    "\n",
    "  # Hide any remaining empty subplots\n",
    "  for ax in axs[n_images:]:\n",
    "    ax.axis('off')\n",
    "\n",
    "  plt.tight_layout()\n",
    "  plt.show()"
   ]
  },
  {
   "cell_type": "markdown",
   "metadata": {
    "id": "x8eYFGDKCrun"
   },
   "source": [
    "## Data Cleaning"
   ]
  },
  {
   "cell_type": "markdown",
   "metadata": {
    "id": "IZdP4Q_Wt9Yn"
   },
   "source": [
    "Remove duplicates:"
   ]
  },
  {
   "cell_type": "code",
   "execution_count": 10,
   "metadata": {
    "colab": {
     "base_uri": "https://localhost:8080/"
    },
    "id": "buhT-vHXwV8E",
    "outputId": "3c89a4b6-4247-4cb6-e764-487709cc29c9"
   },
   "outputs": [
    {
     "data": {
      "text/plain": [
       "((11953, 96, 96, 3), (11953,))"
      ]
     },
     "execution_count": 10,
     "metadata": {},
     "output_type": "execute_result"
    }
   ],
   "source": [
    "images, unique_idxs = np.unique(images, axis=0, return_index=True)\n",
    "labels = labels[unique_idxs]\n",
    "images.shape, labels.shape"
   ]
  },
  {
   "cell_type": "markdown",
   "metadata": {
    "id": "eMxN7xURyiKP"
   },
   "source": [
    "Remove anomalies:"
   ]
  },
  {
   "cell_type": "code",
   "execution_count": null,
   "metadata": {
    "colab": {
     "base_uri": "https://localhost:8080/",
     "height": 339
    },
    "id": "G7cShIFSIlcV",
    "outputId": "f35767d7-1393-40b2-cf67-167d56fc9675"
   },
   "outputs": [],
   "source": [
    "class_counts = np.bincount(labels)\n",
    "\n",
    "shrek = images[58]\n",
    "rick = images[1008]"
   ]
  },
  {
   "cell_type": "code",
   "execution_count": 12,
   "metadata": {
    "colab": {
     "base_uri": "https://localhost:8080/"
    },
    "id": "bH_TeEcdHtTK",
    "outputId": "ffad2819-b54e-4c9a-8e8d-01e689e523c3"
   },
   "outputs": [
    {
     "name": "stdout",
     "output_type": "stream",
     "text": [
      "1 shreks\n",
      "1 rick\n"
     ]
    }
   ],
   "source": [
    "shrek_idxs = np.all(images == shrek, axis=(1, 2, 3))\n",
    "rick_idxs = np.all(images == rick, axis=(1, 2, 3))\n",
    "print(f\"{shrek_idxs.sum()} shreks\")\n",
    "print(f\"{rick_idxs.sum()} rick\")\n",
    "# TODO for now let's keep Rick"
   ]
  },
  {
   "cell_type": "code",
   "execution_count": 13,
   "metadata": {
    "colab": {
     "base_uri": "https://localhost:8080/"
    },
    "id": "Yv4idXBFtWZy",
    "outputId": "6b75139a-d9df-4ad3-d01d-55fca626455b"
   },
   "outputs": [
    {
     "data": {
      "text/plain": [
       "((11951, 96, 96, 3), (11951,))"
      ]
     },
     "execution_count": 13,
     "metadata": {},
     "output_type": "execute_result"
    }
   ],
   "source": [
    "idxs_to_delete = shrek_idxs + rick_idxs\n",
    "images = np.delete(images, idxs_to_delete, axis=0)\n",
    "labels = np.delete(labels, idxs_to_delete, axis=0)\n",
    "images.shape, labels.shape"
   ]
  },
  {
   "cell_type": "markdown",
   "metadata": {
    "id": "9a78D7ODHi73"
   },
   "source": [
    "## Data Splitting"
   ]
  },
  {
   "cell_type": "markdown",
   "metadata": {
    "id": "XVgJfQ6QHk-S"
   },
   "source": [
    "Split between train+val and test sets:"
   ]
  },
  {
   "cell_type": "code",
   "execution_count": 14,
   "metadata": {
    "colab": {
     "base_uri": "https://localhost:8080/"
    },
    "id": "rb6A89d6Hl4p",
    "outputId": "72f71b29-9901-42c9-e3cf-11e33aea5067"
   },
   "outputs": [
    {
     "name": "stdout",
     "output_type": "stream",
     "text": [
      "(10158, 96, 96, 3) (10158,)\n",
      "(1793, 96, 96, 3) (1793,)\n"
     ]
    }
   ],
   "source": [
    "val_split = 0.15\n",
    "\n",
    "X_train, X_val, y_train, y_val = train_test_split(\n",
    "    images, labels,\n",
    "    test_size = val_split,\n",
    "    random_state = SEED,\n",
    "    shuffle = True,\n",
    "    stratify = labels\n",
    ")\n",
    "\n",
    "print(X_train.shape, y_train.shape)\n",
    "print(X_val.shape, y_val.shape)\n",
    "\n",
    "del images, labels\n",
    "gc.collect();"
   ]
  },
  {
   "cell_type": "markdown",
   "metadata": {
    "id": "6Cy6i1K16Q5p"
   },
   "source": [
    "## Tensors"
   ]
  },
  {
   "cell_type": "code",
   "execution_count": 15,
   "metadata": {
    "colab": {
     "base_uri": "https://localhost:8080/"
    },
    "id": "Gwuwwiub6U0i",
    "outputId": "d6fec328-bbf5-4daa-8f9d-13392fc0c9c4"
   },
   "outputs": [
    {
     "data": {
      "text/plain": [
       "('/job:localhost/replica:0/task:0/device:GPU:0', tf.float32)"
      ]
     },
     "execution_count": 15,
     "metadata": {},
     "output_type": "execute_result"
    }
   ],
   "source": [
    "X_train = tf.convert_to_tensor(X_train/255.0, dtype=tf.float32)\n",
    "y_train = tf.convert_to_tensor(y_train, dtype=tf.uint8)\n",
    "X_val   = tf.convert_to_tensor(X_val/255.0, dtype=tf.float32)\n",
    "y_val   = tf.convert_to_tensor(y_val, dtype=tf.uint8)\n",
    "gc.collect();\n",
    "X_train.device, X_train.dtype"
   ]
  },
  {
   "cell_type": "markdown",
   "metadata": {
    "id": "s1f4SvnC_vTi"
   },
   "source": [
    "# Model Init"
   ]
  },
  {
   "cell_type": "markdown",
   "metadata": {
    "id": "7RLlrGExsuAT"
   },
   "source": [
    "## Model Loading"
   ]
  },
  {
   "cell_type": "code",
   "execution_count": 16,
   "metadata": {
    "id": "aAULKAvFsLxv"
   },
   "outputs": [],
   "source": [
    "def load_model(file_path, compile=True):\n",
    "    MODEL = tfk.models.load_model(file_path, compile=compile)\n",
    "    return MODEL"
   ]
  },
  {
   "cell_type": "code",
   "execution_count": 17,
   "metadata": {
    "id": "Edkta6KzF-UH"
   },
   "outputs": [],
   "source": [
    "# file_path = f\"params.keras\"               # for model saved on local runtime\n",
    "file_path = f\"{MY_DIR}/params_0.97_tom.keras\"    # for model saved on google drive\n",
    "# file_path = f\"{MY_DIR}/params_cnxl2_balanced.keras\"    # for model saved on google drive\n",
    "MODEL = load_model(file_path, compile=False)"
   ]
  },
  {
   "cell_type": "markdown",
   "metadata": {
    "id": "fxTFxvQ8Bz8z"
   },
   "source": [
    "## Model Viz"
   ]
  },
  {
   "cell_type": "code",
   "execution_count": 18,
   "metadata": {
    "id": "tMRgN3fBJUIR"
   },
   "outputs": [],
   "source": [
    "def _get_all_layers(layer, data):\n",
    "    if isinstance(layer, tfk.Model):  # Check if the layer is a model (nested layers)\n",
    "        for sub_layer in layer.layers:\n",
    "            _get_all_layers(sub_layer, data)  # Recursively call for nested layers\n",
    "    else:\n",
    "        data.append({\"Layer Name\": layer.name, \"Trainable\": layer.trainable})\n",
    "\n",
    "def get_model_df(model, nested=False):\n",
    "    data = []\n",
    "    for layer in model.layers:\n",
    "        if nested:\n",
    "            _get_all_layers(layer, data)  # Get all layers, including nested ones\n",
    "        else:\n",
    "            data.append({\"Layer Name\": layer.name, \"Trainable\": layer.trainable})\n",
    "    return pd.DataFrame(data)"
   ]
  },
  {
   "cell_type": "code",
   "execution_count": 32,
   "metadata": {
    "id": "5BtaBiznCR-Y"
   },
   "outputs": [],
   "source": [
    "# get_model_df(MODEL)"
   ]
  },
  {
   "cell_type": "markdown",
   "metadata": {
    "id": "sscAF0kRHx9D"
   },
   "source": [
    "# Model Fitting"
   ]
  },
  {
   "cell_type": "markdown",
   "metadata": {
    "id": "2fkA-EhJJuMg"
   },
   "source": [
    "## Model Compilation"
   ]
  },
  {
   "cell_type": "code",
   "execution_count": null,
   "metadata": {
    "colab": {
     "base_uri": "https://localhost:8080/",
     "height": 1000
    },
    "id": "b77OY0TYMVGP",
    "outputId": "da947a1c-f56f-4b43-9194-bafe200429ae"
   },
   "outputs": [],
   "source": [
    "get_model_df(MODEL, nested=False)"
   ]
  },
  {
   "cell_type": "markdown",
   "metadata": {
    "id": "cshPdYsuJzEt"
   },
   "source": [
    "Compile the model:"
   ]
  },
  {
   "cell_type": "code",
   "execution_count": 20,
   "metadata": {
    "id": "5z8t9q2SJ0Qo"
   },
   "outputs": [],
   "source": [
    "def compile_model(MODEL, lr=1e-4):\n",
    "    # compile the model with loss, optimizer, and metrics\n",
    "    loss = tfk.losses.SparseCategoricalCrossentropy()\n",
    "    optimizer = tfk.optimizers.Lion(\n",
    "        learning_rate=lr,\n",
    "        weight_decay=1e-4,\n",
    "        gradient_accumulation_steps=2,\n",
    "    )\n",
    "\n",
    "    metrics = ['accuracy']\n",
    "    MODEL.compile(loss=loss, optimizer=optimizer, metrics=metrics)"
   ]
  },
  {
   "cell_type": "code",
   "execution_count": 21,
   "metadata": {
    "id": "pG5V__KwL1oC"
   },
   "outputs": [],
   "source": [
    "compile_model(MODEL, lr=1e-6)"
   ]
  },
  {
   "cell_type": "markdown",
   "metadata": {
    "id": "k2eQjQJ14kzW"
   },
   "source": [
    "## Datasets"
   ]
  },
  {
   "cell_type": "code",
   "execution_count": 22,
   "metadata": {
    "id": "Ipj89I_K4nMc"
   },
   "outputs": [],
   "source": [
    "BATCH_SIZE=64\n",
    "train_ds = tf.data.Dataset.from_tensor_slices((X_train, y_train)).batch(BATCH_SIZE).prefetch(tf.data.AUTOTUNE)\n",
    "val_ds = tf.data.Dataset.from_tensor_slices((X_val, y_val)).batch(BATCH_SIZE).prefetch(tf.data.AUTOTUNE)"
   ]
  },
  {
   "cell_type": "markdown",
   "metadata": {
    "id": "kPnE4FEE4dgX"
   },
   "source": [
    "Resize images:"
   ]
  },
  {
   "cell_type": "code",
   "execution_count": 23,
   "metadata": {
    "id": "zrDHX_sU4l3I"
   },
   "outputs": [],
   "source": [
    "def preprocess_image(image, label):\n",
    "  \"\"\"Resizes and preprocesses the image.\"\"\"\n",
    "  image = tf.image.resize(image, [224, 224])\n",
    "  # Add any other preprocessing steps if needed\n",
    "  return image, label"
   ]
  },
  {
   "cell_type": "code",
   "execution_count": 24,
   "metadata": {
    "id": "VMY0d5mj4-iv"
   },
   "outputs": [],
   "source": [
    "train_ds = train_ds.map(preprocess_image)\n",
    "val_ds = val_ds.map(preprocess_image)"
   ]
  },
  {
   "cell_type": "markdown",
   "metadata": {
    "id": "HGJfpnsjanrf"
   },
   "source": [
    "## Training"
   ]
  },
  {
   "cell_type": "code",
   "execution_count": 25,
   "metadata": {
    "colab": {
     "base_uri": "https://localhost:8080/"
    },
    "id": "kuFqfYquJ49s",
    "outputId": "8b98aeb4-4d9c-4bb4-901f-6544c7daf46d"
   },
   "outputs": [
    {
     "name": "stdout",
     "output_type": "stream",
     "text": [
      "\u001b[1m159/159\u001b[0m \u001b[32m━━━━━━━━━━━━━━━━━━━━\u001b[0m\u001b[37m\u001b[0m \u001b[1m419s\u001b[0m 2s/step - accuracy: 0.9989 - loss: 0.0035\n",
      "\u001b[1m29/29\u001b[0m \u001b[32m━━━━━━━━━━━━━━━━━━━━\u001b[0m\u001b[37m\u001b[0m \u001b[1m70s\u001b[0m 2s/step - accuracy: 0.9964 - loss: 0.0084\n"
     ]
    }
   ],
   "source": [
    "MODEL.evaluate(train_ds);\n",
    "MODEL.evaluate(val_ds);"
   ]
  },
  {
   "cell_type": "markdown",
   "metadata": {
    "id": "aVypjtdRKAUl"
   },
   "source": [
    "# Evaluation"
   ]
  },
  {
   "cell_type": "code",
   "execution_count": 26,
   "metadata": {
    "id": "D4hQCjf1KA-f"
   },
   "outputs": [],
   "source": [
    "def compute_metrics(labels, preds):\n",
    "  accuracy = round(accuracy_score(labels, preds), 4)\n",
    "  precision = round(precision_score(labels, preds, average='weighted'), 4)\n",
    "  recall = round(recall_score(labels, preds, average='weighted'), 4)\n",
    "  f1 = round(f1_score(labels, preds, average='weighted'), 4)\n",
    "\n",
    "  result_dict = {\n",
    "      \"acc\":  accuracy,\n",
    "      \"prec\": precision,\n",
    "      \"rec\":  recall,\n",
    "      \"f1\":  f1,\n",
    "  }\n",
    "\n",
    "  return result_dict"
   ]
  },
  {
   "cell_type": "code",
   "execution_count": 27,
   "metadata": {
    "id": "2jf81okCKDDC"
   },
   "outputs": [],
   "source": [
    "preds_train     = np.argmax(MODEL.predict(train_ds, verbose=0), axis=-1)\n",
    "labels_train    = y_train\n",
    "preds_val       = np.argmax(MODEL.predict(val_ds, verbose=0), axis=-1)\n",
    "labels_val      = y_val"
   ]
  },
  {
   "cell_type": "code",
   "execution_count": 28,
   "metadata": {
    "colab": {
     "base_uri": "https://localhost:8080/"
    },
    "id": "kRfSOj2HKEFK",
    "outputId": "0c5b67f3-907a-4f4f-f5c2-084e939e0146"
   },
   "outputs": [
    {
     "name": "stdout",
     "output_type": "stream",
     "text": [
      "TRAIN METRICS: \n",
      " {'acc': 0.9988, 'prec': 0.9988, 'rec': 0.9988, 'f1': 0.9988}\n",
      "VAL METRICS: \n",
      " {'acc': 0.9972, 'prec': 0.9972, 'rec': 0.9972, 'f1': 0.9972}\n"
     ]
    }
   ],
   "source": [
    "print(f\"TRAIN METRICS: \\n {compute_metrics(labels_train, preds_train)}\")\n",
    "print(f\"VAL METRICS: \\n {compute_metrics(labels_val, preds_val)}\")"
   ]
  },
  {
   "cell_type": "code",
   "execution_count": 29,
   "metadata": {
    "id": "UY_ajrngKFEt"
   },
   "outputs": [],
   "source": [
    "cmn_train = confusion_matrix(labels_train, preds_train, normalize=\"true\")\n",
    "cmn_val = confusion_matrix(labels_val, preds_val, normalize=\"true\")\n",
    "\n",
    "cm_train = confusion_matrix(labels_train, preds_train)\n",
    "cm_val = confusion_matrix(labels_val, preds_val)"
   ]
  },
  {
   "cell_type": "code",
   "execution_count": 30,
   "metadata": {
    "id": "15cQmqshKF4C"
   },
   "outputs": [],
   "source": [
    "def make_cm_fig(cm, cmn, title=None):\n",
    "  fig, axs = plt.subplots(nrows=1, ncols=2, figsize=(16, 8))\n",
    "  fig.suptitle(title, fontsize=16)\n",
    "  sns.heatmap(cm, annot=True, fmt=\"d\", cmap=\"Blues\", linewidths=.5, square=True, ax=axs[0])\n",
    "  axs[0].set_title(\"Conf. matrix\")\n",
    "  axs[0].set_xlabel(\"Predicted label\")\n",
    "  axs[0].set_ylabel(\"True label\")\n",
    "\n",
    "  sns.heatmap(cmn, annot=True, fmt=\".2%\", cmap=\"Blues\", linewidths=.5, square=True, ax=axs[1])\n",
    "  axs[1].set_title(\"Norm. conf. matrix\")\n",
    "  axs[1].set_xlabel(\"Predicted label\")\n",
    "  axs[1].set_ylabel(\"True label\")\n",
    "\n",
    "  return fig"
   ]
  },
  {
   "cell_type": "code",
   "execution_count": 31,
   "metadata": {
    "colab": {
     "base_uri": "https://localhost:8080/",
     "height": 1000
    },
    "id": "GszksF2fKGot",
    "outputId": "218937cf-4492-4b27-e438-4370d60fd472"
   },
   "outputs": [
    {
     "data": {
      "image/png": "[encoded data removed]",
      "text/plain": [
       "<Figure size 1600x800 with 4 Axes>"
      ]
     },
     "metadata": {},
     "output_type": "display_data"
    },
    {
     "data": {
      "image/png": "[encoded data removed]",
      "text/plain": [
       "<Figure size 1600x800 with 4 Axes>"
      ]
     },
     "metadata": {},
     "output_type": "display_data"
    }
   ],
   "source": [
    "make_cm_fig(cm_train, cmn_train, title=\"Train conf. matrices\").show()\n",
    "make_cm_fig(cm_val, cmn_val, title=\"Val conf. matrices\").show()"
   ]
  }
 ],
 "metadata": {
  "accelerator": "GPU",
  "colab": {
   "collapsed_sections": [
    "ZdF1CjAAMJ4j",
    "WJ4cNKrVHz6Y"
   ],
   "gpuType": "T4",
   "provenance": [],
   "toc_visible": true
  },
  "kernelspec": {
   "display_name": "Python 3",
   "name": "python3"
  },
  "language_info": {
   "name": "python"
  }
 },
 "nbformat": 4,
 "nbformat_minor": 0
}
