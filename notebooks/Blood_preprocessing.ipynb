{
 "cells": [
  {
   "cell_type": "code",
   "execution_count": 1,
   "metadata": {
    "id": "SXBfORsrhrhX"
   },
   "outputs": [],
   "source": [
    "from google.colab import drive\n",
    "from numpy import load\n",
    "import pandas as pd\n",
    "import seaborn as sns\n",
    "import matplotlib.pyplot as plt\n",
    "import numpy as np\n",
    "import math\n",
    "import tensorflow as tf\n",
    "import tensorflow.keras.layers as tfkl\n",
    "from PIL import Image\n",
    "import hashlib"
   ]
  },
  {
   "cell_type": "code",
   "execution_count": null,
   "metadata": {
    "colab": {
     "base_uri": "https://localhost:8080/"
    },
    "id": "eCX1zFyFiU_f",
    "outputId": "e2db03b9-d229-4ae2-ccea-d4493e4c6050"
   },
   "outputs": [
    {
     "name": "stdout",
     "output_type": "stream",
     "text": [
      "Drive already mounted at /gdrive; to attempt to forcibly remount, call drive.mount(\"/gdrive\", force_remount=True).\n"
     ]
    }
   ],
   "source": [
    "# Mount drive and load data\n",
    "drive.mount('/gdrive')\n",
    "data = load('/gdrive/MyDrive/training_set.npz', allow_pickle=True)"
   ]
  },
  {
   "cell_type": "code",
   "execution_count": null,
   "metadata": {
    "id": "EaBYVfK4zC3D"
   },
   "outputs": [],
   "source": [
    "# Load data\n",
    "images = data['images'] / 255\n",
    "labels = data['labels']\n",
    "labels = labels.reshape(-1)"
   ]
  },
  {
   "cell_type": "code",
   "execution_count": 4,
   "metadata": {
    "colab": {
     "base_uri": "https://localhost:8080/"
    },
    "id": "Qt4LrRkJmhzN",
    "outputId": "54daadfd-1b1e-4e53-b3f9-d1d9f9a97290"
   },
   "outputs": [
    {
     "name": "stdout",
     "output_type": "stream",
     "text": [
      "(13759, 96, 96, 3)\n"
     ]
    }
   ],
   "source": [
    "print(images.shape)"
   ]
  },
  {
   "cell_type": "markdown",
   "metadata": {
    "id": "Ceanx7XCse1t"
   },
   "source": [
    "# Delete shrek and rick"
   ]
  },
  {
   "cell_type": "code",
   "execution_count": null,
   "metadata": {
    "id": "oug8iNcclvVN"
   },
   "outputs": [],
   "source": [
    "# Index of shrek and rick\n",
    "shrek_idx = 13302\n",
    "rick_idx = 13758"
   ]
  },
  {
   "cell_type": "code",
   "execution_count": null,
   "metadata": {
    "id": "sV862FY1m4O2"
   },
   "outputs": [],
   "source": [
    "# Remove shrek and rick\n",
    "to_remove_idx = []\n",
    "for i, img in enumerate(images):\n",
    "    if np.array_equal(img, images[shrek_idx]) or np.array_equal(img, images[rick_idx]):\n",
    "      to_remove_idx.append(i)\n",
    "\n",
    "images = np.delete(images, to_remove_idx, axis=0)\n",
    "labels = np.delete(labels, to_remove_idx, axis=0)"
   ]
  },
  {
   "cell_type": "code",
   "execution_count": 7,
   "metadata": {
    "colab": {
     "base_uri": "https://localhost:8080/"
    },
    "id": "N1w1cTMfn0HF",
    "outputId": "6763c1ff-e986-4a6e-a53a-355e9f3c1f0f"
   },
   "outputs": [
    {
     "name": "stdout",
     "output_type": "stream",
     "text": [
      "(11959, 96, 96, 3)\n"
     ]
    }
   ],
   "source": [
    "print(images.shape)"
   ]
  },
  {
   "cell_type": "markdown",
   "metadata": {
    "id": "iN1ZAyHxsiRg"
   },
   "source": [
    "# Delete duplicates"
   ]
  },
  {
   "cell_type": "code",
   "execution_count": null,
   "metadata": {
    "colab": {
     "base_uri": "https://localhost:8080/"
    },
    "id": "ggcZ5fWXkRm8",
    "outputId": "6bf2bdb0-1f07-4bab-aea3-4faaa63c9e0d"
   },
   "outputs": [
    {
     "name": "stdout",
     "output_type": "stream",
     "text": [
      "(11951, 96, 96, 3)\n"
     ]
    }
   ],
   "source": [
    "import numpy as np\n",
    "\n",
    "# Compute a hash for each image to identify unique images\n",
    "unique_hashes = {}\n",
    "unique_indices = []\n",
    "\n",
    "for idx, img in enumerate(images):\n",
    "    # Flatten image, compute a unique hash, and use it as an identifier\n",
    "    img_hash = hashlib.md5(img.tobytes()).hexdigest()  # Hash the bytes of the image\n",
    "\n",
    "    if img_hash not in unique_hashes:\n",
    "        # If this hash is not already in the unique set, add it\n",
    "        unique_hashes[img_hash] = idx\n",
    "        unique_indices.append(idx)\n",
    "\n",
    "# Extract unique images and labels using unique indices\n",
    "unique_images = images[unique_indices]\n",
    "unique_labels = labels[unique_indices]\n",
    "\n",
    "# unique_images now contains only unique images\n",
    "print(unique_images.shape)\n"
   ]
  },
  {
   "cell_type": "code",
   "execution_count": 9,
   "metadata": {
    "id": "audNM6-KksD7"
   },
   "outputs": [],
   "source": [
    "del images\n",
    "del labels\n",
    "del to_remove_idx"
   ]
  },
  {
   "cell_type": "markdown",
   "metadata": {
    "id": "kEJA3bbgopzE"
   },
   "source": [
    "# Balancing"
   ]
  },
  {
   "cell_type": "code",
   "execution_count": 10,
   "metadata": {
    "colab": {
     "base_uri": "https://localhost:8080/"
    },
    "id": "oVxkgaV0Grl_",
    "outputId": "201ab8be-a378-4142-e4c2-b51a5ff1db39"
   },
   "outputs": [
    {
     "name": "stdout",
     "output_type": "stream",
     "text": [
      "Number of training images: 10755\n",
      "Number of validation images: 1196\n",
      "Number of training labels: 10755\n",
      "Number of validation labels: 1196\n"
     ]
    }
   ],
   "source": [
    "from sklearn.model_selection import train_test_split\n",
    "\n",
    "# Split data into training and validation sets\n",
    "train_images, val_images, train_labels, val_labels = train_test_split(unique_images, unique_labels, test_size=0.1)\n",
    "\n",
    "print(f\"Number of training images: {len(train_images)}\")\n",
    "print(f\"Number of validation images: {len(val_images)}\")\n",
    "print(f\"Number of training labels: {len(train_labels)}\")\n",
    "print(f\"Number of validation labels: {len(val_labels)}\")"
   ]
  },
  {
   "cell_type": "code",
   "execution_count": 12,
   "metadata": {
    "id": "E49YBb14ozx8"
   },
   "outputs": [],
   "source": [
    "del unique_images\n",
    "del unique_labels"
   ]
  },
  {
   "cell_type": "code",
   "execution_count": null,
   "metadata": {
    "id": "5IbqYYo3ooYs"
   },
   "outputs": [],
   "source": [
    "# Count class\n",
    "class_counts = pd.Series(train_labels).value_counts()"
   ]
  },
  {
   "cell_type": "code",
   "execution_count": 14,
   "metadata": {
    "colab": {
     "base_uri": "https://localhost:8080/",
     "height": 487
    },
    "id": "3gdxHNCirPtz",
    "outputId": "5a26cb15-6f40-4483-9f19-797c92425381"
   },
   "outputs": [
    {
     "data": {
      "image/png": "[encoded data removed]",
      "text/plain": [
       "<Figure size 1000x500 with 1 Axes>"
      ]
     },
     "metadata": {},
     "output_type": "display_data"
    }
   ],
   "source": [
    "import matplotlib.pyplot as plt\n",
    "plt.figure(figsize=(10, 5))\n",
    "sns.countplot(x=train_labels)\n",
    "plt.title('Class Distribution')\n",
    "plt.xlabel('Class Label')\n",
    "plt.ylabel('Number of Images')\n",
    "plt.show()\n"
   ]
  },
  {
   "cell_type": "code",
   "execution_count": null,
   "metadata": {
    "id": "Dnwtq2bBo0Fm"
   },
   "outputs": [],
   "source": [
    "# Find majority class and co\n",
    "majority_class = class_counts.idxmax()\n",
    "majority_count = class_counts.max()"
   ]
  },
  {
   "cell_type": "code",
   "execution_count": null,
   "metadata": {
    "id": "_mVajwOnypNZ"
   },
   "outputs": [],
   "source": [
    "# Apply 90 rotation to oversampled images\n",
    "modify_image = tf.keras.Sequential([\n",
    "    tfkl.Lambda(lambda x: tf.image.rot90(x, k=2))\n",
    "])"
   ]
  },
  {
   "cell_type": "code",
   "execution_count": null,
   "metadata": {
    "id": "bpUMO5Y703cH"
   },
   "outputs": [],
   "source": [
    "class Rotate180(tfkl.Layer):\n",
    "    def __init__(self, **kwargs):\n",
    "        super(Rotate180, self).__init__(**kwargs)\n",
    "\n",
    "    def call(self, inputs):\n",
    "        return tf.image.rot90(inputs, k=2)"
   ]
  },
  {
   "cell_type": "code",
   "execution_count": null,
   "metadata": {
    "colab": {
     "base_uri": "https://localhost:8080/",
     "height": 487
    },
    "id": "-Z-DqO-JrbVR",
    "outputId": "4075014f-0bef-4171-b795-5fc604ca7473"
   },
   "outputs": [
    {
     "data": {
      "image/png": "[encoded data removed]",
      "text/plain": [
       "<Figure size 1000x500 with 1 Axes>"
      ]
     },
     "metadata": {},
     "output_type": "display_data"
    }
   ],
   "source": [
    "# Balance dataset\n",
    "minority_classes = class_counts[class_counts != majority_count].index\n",
    "augmented_images = []\n",
    "augmented_labels = []\n",
    "\n",
    "for class_label in minority_classes:\n",
    "    minority_indices = np.where(train_labels == class_label)[0]\n",
    "    num_to_augment = majority_count - len(minority_indices)\n",
    "\n",
    "    for i in range(num_to_augment):\n",
    "        random_index = np.random.choice(minority_indices)\n",
    "        image = train_images[random_index]\n",
    "\n",
    "        augmented_image = modify_image(image)\n",
    "        augmented_images.append(augmented_image.numpy())\n",
    "        augmented_labels.append(class_label)\n",
    "\n",
    "augmented_images = np.array(augmented_images)\n",
    "augmented_labels = np.array(augmented_labels)\n",
    "\n",
    "# Combine original and augmented data\n",
    "train_images = np.concatenate((train_images, augmented_images))\n",
    "train_labels = np.concatenate((train_labels, augmented_labels))\n",
    "\n",
    "#Check the new class distribution\n",
    "class_counts = pd.Series(train_labels).value_counts()\n",
    "plt.figure(figsize=(10, 5))\n",
    "sns.countplot(x=train_labels)\n",
    "plt.title('Class Distribution After Augmentation')\n",
    "plt.xlabel('Class Label')\n",
    "plt.ylabel('Number of Images')\n",
    "plt.show()"
   ]
  },
  {
   "cell_type": "code",
   "execution_count": null,
   "metadata": {
    "colab": {
     "base_uri": "https://localhost:8080/",
     "height": 487
    },
    "id": "Gm1icQbwILQz",
    "outputId": "2c58b0f3-31a7-4a63-fd44-a047dce4b22b"
   },
   "outputs": [
    {
     "data": {
      "image/png": "[encoded data removed]",
      "text/plain": [
       "<Figure size 1000x500 with 1 Axes>"
      ]
     },
     "metadata": {},
     "output_type": "display_data"
    }
   ],
   "source": [
    "# Plot val class distribution\n",
    "class_counts = pd.Series(val_labels).value_counts()\n",
    "plt.figure(figsize=(10, 5))\n",
    "sns.countplot(x=val_labels)\n",
    "plt.title('Validation Class Distribution')\n",
    "plt.xlabel('Class Label')\n",
    "plt.ylabel('Number of Images')\n",
    "plt.show()"
   ]
  },
  {
   "cell_type": "code",
   "execution_count": null,
   "metadata": {
    "id": "spSXYrDIHxbt"
   },
   "outputs": [],
   "source": [
    "# Save dataset\n",
    "np.savez_compressed('/gdrive/MyDrive/blood/data_preprocessed_balanced.npz',\n",
    "                    train_images=train_images, train_labels=train_labels,\n",
    "                    val_images=val_images, val_labels=val_labels)"
   ]
  }
 ],
 "metadata": {
  "accelerator": "GPU",
  "colab": {
   "gpuType": "T4",
   "provenance": []
  },
  "kernelspec": {
   "display_name": "Python 3",
   "name": "python3"
  },
  "language_info": {
   "name": "python"
  }
 },
 "nbformat": 4,
 "nbformat_minor": 0
}
