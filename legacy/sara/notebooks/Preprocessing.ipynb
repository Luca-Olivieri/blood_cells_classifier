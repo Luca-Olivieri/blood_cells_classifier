{
 "cells": [
  {
   "cell_type": "code",
   "execution_count": null,
   "metadata": {
    "id": "SXBfORsrhrhX"
   },
   "outputs": [],
   "source": [
    "from google.colab import drive\n",
    "from numpy import load\n",
    "import pandas as pd\n",
    "import seaborn as sns\n",
    "import matplotlib.pyplot as plt\n",
    "import numpy as np\n",
    "import math\n",
    "import tensorflow as tf\n",
    "import tensorflow.keras.layers as tfkl\n",
    "from PIL import Image\n",
    "import hashlib\n",
    "from sklearn.model_selection import train_test_split"
   ]
  },
  {
   "cell_type": "code",
   "execution_count": null,
   "metadata": {
    "colab": {
     "base_uri": "https://localhost:8080/"
    },
    "id": "eCX1zFyFiU_f",
    "outputId": "e2db03b9-d229-4ae2-ccea-d4493e4c6050"
   },
   "outputs": [],
   "source": [
    "drive.mount('/gdrive')\n",
    "data = load('/gdrive/MyDrive/AN2DL/training_set.npz', allow_pickle=True)"
   ]
  },
  {
   "cell_type": "code",
   "execution_count": null,
   "metadata": {
    "id": "EaBYVfK4zC3D"
   },
   "outputs": [],
   "source": [
    "images = data['images'] \n",
    "labels = data['labels']\n",
    "labels = labels.reshape(-1)"
   ]
  },
  {
   "cell_type": "markdown",
   "metadata": {
    "id": "Ceanx7XCse1t"
   },
   "source": [
    "# Delete shrek and rick"
   ]
  },
  {
   "cell_type": "code",
   "execution_count": 5,
   "metadata": {
    "id": "oug8iNcclvVN"
   },
   "outputs": [],
   "source": [
    "shrek_idx = 13302\n",
    "rick_idx = 13758"
   ]
  },
  {
   "cell_type": "code",
   "execution_count": 6,
   "metadata": {
    "id": "sV862FY1m4O2"
   },
   "outputs": [],
   "source": [
    "to_remove_idx = []\n",
    "for i, img in enumerate(images):\n",
    "    if np.array_equal(img, images[shrek_idx]) or np.array_equal(img, images[rick_idx]):\n",
    "      to_remove_idx.append(i)\n",
    "\n",
    "images = np.delete(images, to_remove_idx, axis=0)\n",
    "labels = np.delete(labels, to_remove_idx, axis=0)"
   ]
  },
  {
   "cell_type": "code",
   "execution_count": 7,
   "metadata": {
    "colab": {
     "base_uri": "https://localhost:8080/"
    },
    "id": "N1w1cTMfn0HF",
    "outputId": "6763c1ff-e986-4a6e-a53a-355e9f3c1f0f"
   },
   "outputs": [
    {
     "name": "stdout",
     "output_type": "stream",
     "text": [
      "(11959, 96, 96, 3)\n"
     ]
    }
   ],
   "source": [
    "print(images.shape)"
   ]
  },
  {
   "cell_type": "markdown",
   "metadata": {
    "id": "iN1ZAyHxsiRg"
   },
   "source": [
    "# Delete duplicates"
   ]
  },
  {
   "cell_type": "code",
   "execution_count": null,
   "metadata": {
    "colab": {
     "base_uri": "https://localhost:8080/"
    },
    "id": "ggcZ5fWXkRm8",
    "outputId": "6bf2bdb0-1f07-4bab-aea3-4faaa63c9e0d"
   },
   "outputs": [
    {
     "name": "stdout",
     "output_type": "stream",
     "text": [
      "(11951, 96, 96, 3)\n"
     ]
    }
   ],
   "source": [
    "unique_hashes = {}\n",
    "unique_indices = []\n",
    "\n",
    "for idx, img in enumerate(images):\n",
    "    img_hash = hashlib.md5(img.tobytes()).hexdigest()  \n",
    "\n",
    "    if img_hash not in unique_hashes:\n",
    "        unique_hashes[img_hash] = idx\n",
    "        unique_indices.append(idx)\n",
    "\n",
    "unique_images = images[unique_indices]\n",
    "unique_labels = labels[unique_indices]\n",
    "\n",
    "print(unique_images.shape)\n"
   ]
  },
  {
   "cell_type": "code",
   "execution_count": 9,
   "metadata": {
    "id": "audNM6-KksD7"
   },
   "outputs": [],
   "source": [
    "del images\n",
    "del labels\n",
    "del to_remove_idx"
   ]
  },
  {
   "cell_type": "markdown",
   "metadata": {},
   "source": [
    "# Train - Validation splitting"
   ]
  },
  {
   "cell_type": "code",
   "execution_count": null,
   "metadata": {
    "colab": {
     "base_uri": "https://localhost:8080/"
    },
    "id": "oVxkgaV0Grl_",
    "outputId": "201ab8be-a378-4142-e4c2-b51a5ff1db39"
   },
   "outputs": [
    {
     "name": "stdout",
     "output_type": "stream",
     "text": [
      "Number of training images: 10755\n",
      "Number of validation images: 1196\n",
      "Number of training labels: 10755\n",
      "Number of validation labels: 1196\n"
     ]
    }
   ],
   "source": [
    "# Split data into training and validation sets\n",
    "train_images, val_images, train_labels, val_labels = train_test_split(unique_images, unique_labels, test_size=0.1)\n",
    "\n",
    "print(f\"Number of training images: {len(train_images)}\")\n",
    "print(f\"Number of validation images: {len(val_images)}\")\n",
    "print(f\"Number of training labels: {len(train_labels)}\")\n",
    "print(f\"Number of validation labels: {len(val_labels)}\")"
   ]
  },
  {
   "cell_type": "code",
   "execution_count": 12,
   "metadata": {
    "id": "E49YBb14ozx8"
   },
   "outputs": [],
   "source": [
    "del unique_images\n",
    "del unique_labels"
   ]
  },
  {
   "cell_type": "code",
   "execution_count": null,
   "metadata": {
    "id": "spSXYrDIHxbt"
   },
   "outputs": [],
   "source": [
    "np.savez_compressed('/gdrive/MyDrive/AN2DL/preprocessed.npz',\n",
    "                    train_images=train_images, train_labels=train_labels,\n",
    "                    val_images=val_images, val_labels=val_labels)"
   ]
  }
 ],
 "metadata": {
  "accelerator": "GPU",
  "colab": {
   "gpuType": "T4",
   "provenance": []
  },
  "kernelspec": {
   "display_name": "Python 3",
   "name": "python3"
  },
  "language_info": {
   "name": "python"
  }
 },
 "nbformat": 4,
 "nbformat_minor": 0
}
